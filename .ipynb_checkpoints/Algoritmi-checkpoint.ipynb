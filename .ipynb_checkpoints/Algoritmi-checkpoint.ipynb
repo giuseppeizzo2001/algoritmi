{
 "cells": [
  {
   "cell_type": "markdown",
   "metadata": {
    "slideshow": {
     "slide_type": "slide"
    }
   },
   "source": [
    "# **Cos'è un algoritmo?**"
   ]
  },
  {
   "cell_type": "markdown",
   "metadata": {
    "slideshow": {
     "slide_type": "fragment"
    }
   },
   "source": [
    "« Algoritmo: sequenza logica di istruzioni elementari (univocamente\n",
    "interpretabili) che, eseguite in un ordine stabilito, permettono la soluzione di\n",
    "un problema in un numero finito di passi »"
   ]
  },
  {
   "cell_type": "markdown",
   "metadata": {
    "slideshow": {
     "slide_type": "slide"
    }
   },
   "source": [
    "## **Esempio**"
   ]
  },
  {
   "cell_type": "markdown",
   "metadata": {
    "slideshow": {
     "slide_type": "fragment"
    }
   },
   "source": [
    "***Problema***: Oggi devi andare a scuola, hai lezione di italiano, francese e ginnastica.\n",
    "\n",
    "Cosa fai?"
   ]
  },
  {
   "cell_type": "markdown",
   "metadata": {
    "slideshow": {
     "slide_type": "slide"
    }
   },
   "source": [
    "1. **Identifichi il problema**: devo andare a scuola e devo mettere in cartella tutto il necessario\n",
    "\n",
    "2. **Isoli i dati**: italiano,francese, ginnastica\n",
    "\n",
    "3. **Le incognite**: cosa metto nello zaino?\n",
    "\n",
    "4. **cerchi la soluzione migliore**: metto nello zaino tuta e scarpe da ginnastica, libro e quaderno di Italiano e francese, diario, portapenne e merenda. "
   ]
  },
  {
   "cell_type": "markdown",
   "metadata": {
    "slideshow": {
     "slide_type": "fragment"
    }
   },
   "source": [
    "**Lascio a casa il vocabolario perché è troppo pesante e posso usare quello della biblioteca.**"
   ]
  },
  {
   "cell_type": "markdown",
   "metadata": {},
   "source": [
    "# Python"
   ]
  },
  {
   "cell_type": "code",
   "execution_count": null,
   "metadata": {},
   "outputs": [],
   "source": [
    "Python è..."
   ]
  },
  {
   "cell_type": "markdown",
   "metadata": {},
   "source": [
    "## Perchè *python*?"
   ]
  },
  {
   "cell_type": "markdown",
   "metadata": {},
   "source": [
    "Perché è adatto ai “principianti”, è facile da imparare (e da insegnare) e\n",
    "consente di affrontare quasi tutti i temi legati alla programmazione.\n",
    "Non è usato solo dagli studenti ma anche dai programmatori professionisti\n",
    "e molti “sviluppatori” se ne occupano attivamente.\n",
    "\n",
    "E’ open-source e può essere utilizzato liberamente."
   ]
  },
  {
   "cell_type": "markdown",
   "metadata": {},
   "source": []
  }
 ],
 "metadata": {
  "celltoolbar": "Slideshow",
  "kernelspec": {
   "display_name": "Python 3",
   "language": "python",
   "name": "python3"
  },
  "language_info": {
   "codemirror_mode": {
    "name": "ipython",
    "version": 3
   },
   "file_extension": ".py",
   "mimetype": "text/x-python",
   "name": "python",
   "nbconvert_exporter": "python",
   "pygments_lexer": "ipython3",
   "version": "3.7.4"
  }
 },
 "nbformat": 4,
 "nbformat_minor": 2
}
